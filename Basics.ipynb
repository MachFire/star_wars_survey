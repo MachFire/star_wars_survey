{
 "cells": [
  {
   "cell_type": "code",
   "execution_count": 45,
   "metadata": {},
   "outputs": [],
   "source": [
    "import pandas as pd\n",
    "import numpy as np\n",
    "import matplotlib.pyplot as plt\n",
    "%matplotlib inline"
   ]
  },
  {
   "cell_type": "markdown",
   "metadata": {},
   "source": [
    "# Are the prequels better than the sequels? (Star Wars Survey Data)\n",
    "\n",
    "So today, we're going to be taking a look at Star Wars survey data coming to us courtesy of FiveThirtyEight.\n",
    "\n",
    "Our aim is to answer the question: Is it the general public's opinion that the sequels are better than the prequels, or is this not true?\n",
    "\n",
    "Let's first load in the data and take a look at the head."
   ]
  },
  {
   "cell_type": "code",
   "execution_count": 46,
   "metadata": {},
   "outputs": [
    {
     "data": {
      "text/html": [
       "<div>\n",
       "<style scoped>\n",
       "    .dataframe tbody tr th:only-of-type {\n",
       "        vertical-align: middle;\n",
       "    }\n",
       "\n",
       "    .dataframe tbody tr th {\n",
       "        vertical-align: top;\n",
       "    }\n",
       "\n",
       "    .dataframe thead th {\n",
       "        text-align: right;\n",
       "    }\n",
       "</style>\n",
       "<table border=\"1\" class=\"dataframe\">\n",
       "  <thead>\n",
       "    <tr style=\"text-align: right;\">\n",
       "      <th></th>\n",
       "      <th>Please rank the Star Wars films in order of preference with 1 being your favorite film in the franchise and 6 being your least favorite film.</th>\n",
       "      <th>Unnamed: 10</th>\n",
       "      <th>Unnamed: 11</th>\n",
       "      <th>Unnamed: 12</th>\n",
       "      <th>Unnamed: 13</th>\n",
       "      <th>Unnamed: 14</th>\n",
       "    </tr>\n",
       "  </thead>\n",
       "  <tbody>\n",
       "    <tr>\n",
       "      <th>0</th>\n",
       "      <td>Star Wars: Episode I  The Phantom Menace</td>\n",
       "      <td>Star Wars: Episode II  Attack of the Clones</td>\n",
       "      <td>Star Wars: Episode III  Revenge of the Sith</td>\n",
       "      <td>Star Wars: Episode IV  A New Hope</td>\n",
       "      <td>Star Wars: Episode V The Empire Strikes Back</td>\n",
       "      <td>Star Wars: Episode VI Return of the Jedi</td>\n",
       "    </tr>\n",
       "    <tr>\n",
       "      <th>1</th>\n",
       "      <td>3</td>\n",
       "      <td>2</td>\n",
       "      <td>1</td>\n",
       "      <td>4</td>\n",
       "      <td>5</td>\n",
       "      <td>6</td>\n",
       "    </tr>\n",
       "    <tr>\n",
       "      <th>2</th>\n",
       "      <td>NaN</td>\n",
       "      <td>NaN</td>\n",
       "      <td>NaN</td>\n",
       "      <td>NaN</td>\n",
       "      <td>NaN</td>\n",
       "      <td>NaN</td>\n",
       "    </tr>\n",
       "    <tr>\n",
       "      <th>3</th>\n",
       "      <td>1</td>\n",
       "      <td>2</td>\n",
       "      <td>3</td>\n",
       "      <td>4</td>\n",
       "      <td>5</td>\n",
       "      <td>6</td>\n",
       "    </tr>\n",
       "    <tr>\n",
       "      <th>4</th>\n",
       "      <td>5</td>\n",
       "      <td>6</td>\n",
       "      <td>1</td>\n",
       "      <td>2</td>\n",
       "      <td>4</td>\n",
       "      <td>3</td>\n",
       "    </tr>\n",
       "    <tr>\n",
       "      <th>5</th>\n",
       "      <td>5</td>\n",
       "      <td>4</td>\n",
       "      <td>6</td>\n",
       "      <td>2</td>\n",
       "      <td>1</td>\n",
       "      <td>3</td>\n",
       "    </tr>\n",
       "    <tr>\n",
       "      <th>6</th>\n",
       "      <td>1</td>\n",
       "      <td>4</td>\n",
       "      <td>3</td>\n",
       "      <td>6</td>\n",
       "      <td>5</td>\n",
       "      <td>2</td>\n",
       "    </tr>\n",
       "    <tr>\n",
       "      <th>7</th>\n",
       "      <td>6</td>\n",
       "      <td>5</td>\n",
       "      <td>4</td>\n",
       "      <td>3</td>\n",
       "      <td>1</td>\n",
       "      <td>2</td>\n",
       "    </tr>\n",
       "    <tr>\n",
       "      <th>8</th>\n",
       "      <td>4</td>\n",
       "      <td>5</td>\n",
       "      <td>6</td>\n",
       "      <td>3</td>\n",
       "      <td>2</td>\n",
       "      <td>1</td>\n",
       "    </tr>\n",
       "    <tr>\n",
       "      <th>9</th>\n",
       "      <td>5</td>\n",
       "      <td>4</td>\n",
       "      <td>6</td>\n",
       "      <td>2</td>\n",
       "      <td>1</td>\n",
       "      <td>3</td>\n",
       "    </tr>\n",
       "  </tbody>\n",
       "</table>\n",
       "</div>"
      ],
      "text/plain": [
       "  Please rank the Star Wars films in order of preference with 1 being your favorite film in the franchise and 6 being your least favorite film.  \\\n",
       "0           Star Wars: Episode I  The Phantom Menace                                                                                              \n",
       "1                                                  3                                                                                              \n",
       "2                                                NaN                                                                                              \n",
       "3                                                  1                                                                                              \n",
       "4                                                  5                                                                                              \n",
       "5                                                  5                                                                                              \n",
       "6                                                  1                                                                                              \n",
       "7                                                  6                                                                                              \n",
       "8                                                  4                                                                                              \n",
       "9                                                  5                                                                                              \n",
       "\n",
       "                                   Unnamed: 10  \\\n",
       "0  Star Wars: Episode II  Attack of the Clones   \n",
       "1                                            2   \n",
       "2                                          NaN   \n",
       "3                                            2   \n",
       "4                                            6   \n",
       "5                                            4   \n",
       "6                                            4   \n",
       "7                                            5   \n",
       "8                                            5   \n",
       "9                                            4   \n",
       "\n",
       "                                   Unnamed: 11  \\\n",
       "0  Star Wars: Episode III  Revenge of the Sith   \n",
       "1                                            1   \n",
       "2                                          NaN   \n",
       "3                                            3   \n",
       "4                                            1   \n",
       "5                                            6   \n",
       "6                                            3   \n",
       "7                                            4   \n",
       "8                                            6   \n",
       "9                                            6   \n",
       "\n",
       "                         Unnamed: 12  \\\n",
       "0  Star Wars: Episode IV  A New Hope   \n",
       "1                                  4   \n",
       "2                                NaN   \n",
       "3                                  4   \n",
       "4                                  2   \n",
       "5                                  2   \n",
       "6                                  6   \n",
       "7                                  3   \n",
       "8                                  3   \n",
       "9                                  2   \n",
       "\n",
       "                                    Unnamed: 13  \\\n",
       "0  Star Wars: Episode V The Empire Strikes Back   \n",
       "1                                             5   \n",
       "2                                           NaN   \n",
       "3                                             5   \n",
       "4                                             4   \n",
       "5                                             1   \n",
       "6                                             5   \n",
       "7                                             1   \n",
       "8                                             2   \n",
       "9                                             1   \n",
       "\n",
       "                                Unnamed: 14  \n",
       "0  Star Wars: Episode VI Return of the Jedi  \n",
       "1                                         6  \n",
       "2                                       NaN  \n",
       "3                                         6  \n",
       "4                                         3  \n",
       "5                                         3  \n",
       "6                                         2  \n",
       "7                                         2  \n",
       "8                                         1  \n",
       "9                                         3  "
      ]
     },
     "execution_count": 46,
     "metadata": {},
     "output_type": "execute_result"
    }
   ],
   "source": [
    "star_wars = pd.read_csv(\"star_wars.csv\", encoding = \"ISO-8859-1\")\n",
    "star_wars.iloc[:,9:15].head(10)"
   ]
  },
  {
   "cell_type": "markdown",
   "metadata": {},
   "source": [
    "## Initial analysis\n",
    "\n",
    "We see two issues right off the bat.\n",
    "\n",
    "- We see a RespondentID without an ID value. We want to make sure that we can track each ID back to the survey, so let's check how many ID's have NaN values, and then if necessary sequester the non-null values.\n",
    "- We see the strings 'Yes' and 'No' as the answers for many of the questions; It's best to turn these into True and False.\n",
    "- We see that Unnamed 4 through 8 are the columns representing what movies in the series each survey participant has watched. Since the formatting of both the columns and the answer column is hard to understand, it's best to go ahead and reformat these columns.\n",
    "- In a similar vein to the above point, the columns where the participants rank the Star Wars movies need to be reformatted to be easier to understand.\n",
    "\n",
    "Let's go ahead and tackle these issues one by one.\n",
    "\n",
    "## Data Cleaning"
   ]
  },
  {
   "cell_type": "code",
   "execution_count": 47,
   "metadata": {},
   "outputs": [
    {
     "name": "stdout",
     "output_type": "stream",
     "text": [
      "<class 'pandas.core.frame.DataFrame'>\n",
      "RangeIndex: 1187 entries, 0 to 1186\n",
      "Data columns (total 38 columns):\n",
      "RespondentID                                                                                                                                     1186 non-null float64\n",
      "Have you seen any of the 6 films in the Star Wars franchise?                                                                                     1187 non-null object\n",
      "Do you consider yourself to be a fan of the Star Wars film franchise?                                                                            837 non-null object\n",
      "Which of the following Star Wars films have you seen? Please select all that apply.                                                              674 non-null object\n",
      "Unnamed: 4                                                                                                                                       572 non-null object\n",
      "Unnamed: 5                                                                                                                                       551 non-null object\n",
      "Unnamed: 6                                                                                                                                       608 non-null object\n",
      "Unnamed: 7                                                                                                                                       759 non-null object\n",
      "Unnamed: 8                                                                                                                                       739 non-null object\n",
      "Please rank the Star Wars films in order of preference with 1 being your favorite film in the franchise and 6 being your least favorite film.    836 non-null object\n",
      "Unnamed: 10                                                                                                                                      837 non-null object\n",
      "Unnamed: 11                                                                                                                                      836 non-null object\n",
      "Unnamed: 12                                                                                                                                      837 non-null object\n",
      "Unnamed: 13                                                                                                                                      837 non-null object\n",
      "Unnamed: 14                                                                                                                                      837 non-null object\n",
      "Please state whether you view the following characters favorably, unfavorably, or are unfamiliar with him/her.                                   830 non-null object\n",
      "Unnamed: 16                                                                                                                                      832 non-null object\n",
      "Unnamed: 17                                                                                                                                      832 non-null object\n",
      "Unnamed: 18                                                                                                                                      824 non-null object\n",
      "Unnamed: 19                                                                                                                                      826 non-null object\n",
      "Unnamed: 20                                                                                                                                      815 non-null object\n",
      "Unnamed: 21                                                                                                                                      827 non-null object\n",
      "Unnamed: 22                                                                                                                                      821 non-null object\n",
      "Unnamed: 23                                                                                                                                      813 non-null object\n",
      "Unnamed: 24                                                                                                                                      828 non-null object\n",
      "Unnamed: 25                                                                                                                                      831 non-null object\n",
      "Unnamed: 26                                                                                                                                      822 non-null object\n",
      "Unnamed: 27                                                                                                                                      815 non-null object\n",
      "Unnamed: 28                                                                                                                                      827 non-null object\n",
      "Which character shot first?                                                                                                                      829 non-null object\n",
      "Are you familiar with the Expanded Universe?                                                                                                     829 non-null object\n",
      "Do you consider yourself to be a fan of the Expanded Universe?ÂÃ¦                                                                               214 non-null object\n",
      "Do you consider yourself to be a fan of the Star Trek franchise?                                                                                 1069 non-null object\n",
      "Gender                                                                                                                                           1047 non-null object\n",
      "Age                                                                                                                                              1047 non-null object\n",
      "Household Income                                                                                                                                 859 non-null object\n",
      "Education                                                                                                                                        1037 non-null object\n",
      "Location (Census Region)                                                                                                                         1044 non-null object\n",
      "dtypes: float64(1), object(37)\n",
      "memory usage: 352.5+ KB\n"
     ]
    }
   ],
   "source": [
    "star_wars.info()"
   ]
  },
  {
   "cell_type": "markdown",
   "metadata": {},
   "source": [
    "So it seems like there's only one non null value for RespondentID, so let's go ahead and filter that out."
   ]
  },
  {
   "cell_type": "code",
   "execution_count": 48,
   "metadata": {},
   "outputs": [],
   "source": [
    "star_wars = star_wars[pd.notnull(star_wars[\"RespondentID\"])]"
   ]
  },
  {
   "cell_type": "markdown",
   "metadata": {},
   "source": [
    "Now to take care of the mapping of the answers 'Yes' and 'No' to True and False, respectively."
   ]
  },
  {
   "cell_type": "code",
   "execution_count": 49,
   "metadata": {},
   "outputs": [
    {
     "data": {
      "text/html": [
       "<div>\n",
       "<style scoped>\n",
       "    .dataframe tbody tr th:only-of-type {\n",
       "        vertical-align: middle;\n",
       "    }\n",
       "\n",
       "    .dataframe tbody tr th {\n",
       "        vertical-align: top;\n",
       "    }\n",
       "\n",
       "    .dataframe thead th {\n",
       "        text-align: right;\n",
       "    }\n",
       "</style>\n",
       "<table border=\"1\" class=\"dataframe\">\n",
       "  <thead>\n",
       "    <tr style=\"text-align: right;\">\n",
       "      <th></th>\n",
       "      <th>Which of the following Star Wars films have you seen? Please select all that apply.</th>\n",
       "      <th>Unnamed: 4</th>\n",
       "      <th>Unnamed: 5</th>\n",
       "      <th>Unnamed: 6</th>\n",
       "      <th>Unnamed: 7</th>\n",
       "      <th>Unnamed: 8</th>\n",
       "    </tr>\n",
       "  </thead>\n",
       "  <tbody>\n",
       "    <tr>\n",
       "      <th>1</th>\n",
       "      <td>Star Wars: Episode I  The Phantom Menace</td>\n",
       "      <td>Star Wars: Episode II  Attack of the Clones</td>\n",
       "      <td>Star Wars: Episode III  Revenge of the Sith</td>\n",
       "      <td>Star Wars: Episode IV  A New Hope</td>\n",
       "      <td>Star Wars: Episode V The Empire Strikes Back</td>\n",
       "      <td>Star Wars: Episode VI Return of the Jedi</td>\n",
       "    </tr>\n",
       "    <tr>\n",
       "      <th>2</th>\n",
       "      <td>NaN</td>\n",
       "      <td>NaN</td>\n",
       "      <td>NaN</td>\n",
       "      <td>NaN</td>\n",
       "      <td>NaN</td>\n",
       "      <td>NaN</td>\n",
       "    </tr>\n",
       "    <tr>\n",
       "      <th>3</th>\n",
       "      <td>Star Wars: Episode I  The Phantom Menace</td>\n",
       "      <td>Star Wars: Episode II  Attack of the Clones</td>\n",
       "      <td>Star Wars: Episode III  Revenge of the Sith</td>\n",
       "      <td>NaN</td>\n",
       "      <td>NaN</td>\n",
       "      <td>NaN</td>\n",
       "    </tr>\n",
       "    <tr>\n",
       "      <th>4</th>\n",
       "      <td>Star Wars: Episode I  The Phantom Menace</td>\n",
       "      <td>Star Wars: Episode II  Attack of the Clones</td>\n",
       "      <td>Star Wars: Episode III  Revenge of the Sith</td>\n",
       "      <td>Star Wars: Episode IV  A New Hope</td>\n",
       "      <td>Star Wars: Episode V The Empire Strikes Back</td>\n",
       "      <td>Star Wars: Episode VI Return of the Jedi</td>\n",
       "    </tr>\n",
       "    <tr>\n",
       "      <th>5</th>\n",
       "      <td>Star Wars: Episode I  The Phantom Menace</td>\n",
       "      <td>Star Wars: Episode II  Attack of the Clones</td>\n",
       "      <td>Star Wars: Episode III  Revenge of the Sith</td>\n",
       "      <td>Star Wars: Episode IV  A New Hope</td>\n",
       "      <td>Star Wars: Episode V The Empire Strikes Back</td>\n",
       "      <td>Star Wars: Episode VI Return of the Jedi</td>\n",
       "    </tr>\n",
       "    <tr>\n",
       "      <th>6</th>\n",
       "      <td>Star Wars: Episode I  The Phantom Menace</td>\n",
       "      <td>Star Wars: Episode II  Attack of the Clones</td>\n",
       "      <td>Star Wars: Episode III  Revenge of the Sith</td>\n",
       "      <td>Star Wars: Episode IV  A New Hope</td>\n",
       "      <td>Star Wars: Episode V The Empire Strikes Back</td>\n",
       "      <td>Star Wars: Episode VI Return of the Jedi</td>\n",
       "    </tr>\n",
       "    <tr>\n",
       "      <th>7</th>\n",
       "      <td>Star Wars: Episode I  The Phantom Menace</td>\n",
       "      <td>Star Wars: Episode II  Attack of the Clones</td>\n",
       "      <td>Star Wars: Episode III  Revenge of the Sith</td>\n",
       "      <td>Star Wars: Episode IV  A New Hope</td>\n",
       "      <td>Star Wars: Episode V The Empire Strikes Back</td>\n",
       "      <td>Star Wars: Episode VI Return of the Jedi</td>\n",
       "    </tr>\n",
       "    <tr>\n",
       "      <th>8</th>\n",
       "      <td>Star Wars: Episode I  The Phantom Menace</td>\n",
       "      <td>Star Wars: Episode II  Attack of the Clones</td>\n",
       "      <td>Star Wars: Episode III  Revenge of the Sith</td>\n",
       "      <td>Star Wars: Episode IV  A New Hope</td>\n",
       "      <td>Star Wars: Episode V The Empire Strikes Back</td>\n",
       "      <td>Star Wars: Episode VI Return of the Jedi</td>\n",
       "    </tr>\n",
       "    <tr>\n",
       "      <th>9</th>\n",
       "      <td>Star Wars: Episode I  The Phantom Menace</td>\n",
       "      <td>Star Wars: Episode II  Attack of the Clones</td>\n",
       "      <td>Star Wars: Episode III  Revenge of the Sith</td>\n",
       "      <td>Star Wars: Episode IV  A New Hope</td>\n",
       "      <td>Star Wars: Episode V The Empire Strikes Back</td>\n",
       "      <td>Star Wars: Episode VI Return of the Jedi</td>\n",
       "    </tr>\n",
       "    <tr>\n",
       "      <th>10</th>\n",
       "      <td>NaN</td>\n",
       "      <td>Star Wars: Episode II  Attack of the Clones</td>\n",
       "      <td>NaN</td>\n",
       "      <td>NaN</td>\n",
       "      <td>NaN</td>\n",
       "      <td>NaN</td>\n",
       "    </tr>\n",
       "  </tbody>\n",
       "</table>\n",
       "</div>"
      ],
      "text/plain": [
       "   Which of the following Star Wars films have you seen? Please select all that apply.  \\\n",
       "1            Star Wars: Episode I  The Phantom Menace                                    \n",
       "2                                                 NaN                                    \n",
       "3            Star Wars: Episode I  The Phantom Menace                                    \n",
       "4            Star Wars: Episode I  The Phantom Menace                                    \n",
       "5            Star Wars: Episode I  The Phantom Menace                                    \n",
       "6            Star Wars: Episode I  The Phantom Menace                                    \n",
       "7            Star Wars: Episode I  The Phantom Menace                                    \n",
       "8            Star Wars: Episode I  The Phantom Menace                                    \n",
       "9            Star Wars: Episode I  The Phantom Menace                                    \n",
       "10                                                NaN                                    \n",
       "\n",
       "                                     Unnamed: 4  \\\n",
       "1   Star Wars: Episode II  Attack of the Clones   \n",
       "2                                           NaN   \n",
       "3   Star Wars: Episode II  Attack of the Clones   \n",
       "4   Star Wars: Episode II  Attack of the Clones   \n",
       "5   Star Wars: Episode II  Attack of the Clones   \n",
       "6   Star Wars: Episode II  Attack of the Clones   \n",
       "7   Star Wars: Episode II  Attack of the Clones   \n",
       "8   Star Wars: Episode II  Attack of the Clones   \n",
       "9   Star Wars: Episode II  Attack of the Clones   \n",
       "10  Star Wars: Episode II  Attack of the Clones   \n",
       "\n",
       "                                     Unnamed: 5  \\\n",
       "1   Star Wars: Episode III  Revenge of the Sith   \n",
       "2                                           NaN   \n",
       "3   Star Wars: Episode III  Revenge of the Sith   \n",
       "4   Star Wars: Episode III  Revenge of the Sith   \n",
       "5   Star Wars: Episode III  Revenge of the Sith   \n",
       "6   Star Wars: Episode III  Revenge of the Sith   \n",
       "7   Star Wars: Episode III  Revenge of the Sith   \n",
       "8   Star Wars: Episode III  Revenge of the Sith   \n",
       "9   Star Wars: Episode III  Revenge of the Sith   \n",
       "10                                          NaN   \n",
       "\n",
       "                           Unnamed: 6  \\\n",
       "1   Star Wars: Episode IV  A New Hope   \n",
       "2                                 NaN   \n",
       "3                                 NaN   \n",
       "4   Star Wars: Episode IV  A New Hope   \n",
       "5   Star Wars: Episode IV  A New Hope   \n",
       "6   Star Wars: Episode IV  A New Hope   \n",
       "7   Star Wars: Episode IV  A New Hope   \n",
       "8   Star Wars: Episode IV  A New Hope   \n",
       "9   Star Wars: Episode IV  A New Hope   \n",
       "10                                NaN   \n",
       "\n",
       "                                      Unnamed: 7  \\\n",
       "1   Star Wars: Episode V The Empire Strikes Back   \n",
       "2                                            NaN   \n",
       "3                                            NaN   \n",
       "4   Star Wars: Episode V The Empire Strikes Back   \n",
       "5   Star Wars: Episode V The Empire Strikes Back   \n",
       "6   Star Wars: Episode V The Empire Strikes Back   \n",
       "7   Star Wars: Episode V The Empire Strikes Back   \n",
       "8   Star Wars: Episode V The Empire Strikes Back   \n",
       "9   Star Wars: Episode V The Empire Strikes Back   \n",
       "10                                           NaN   \n",
       "\n",
       "                                  Unnamed: 8  \n",
       "1   Star Wars: Episode VI Return of the Jedi  \n",
       "2                                        NaN  \n",
       "3                                        NaN  \n",
       "4   Star Wars: Episode VI Return of the Jedi  \n",
       "5   Star Wars: Episode VI Return of the Jedi  \n",
       "6   Star Wars: Episode VI Return of the Jedi  \n",
       "7   Star Wars: Episode VI Return of the Jedi  \n",
       "8   Star Wars: Episode VI Return of the Jedi  \n",
       "9   Star Wars: Episode VI Return of the Jedi  \n",
       "10                                       NaN  "
      ]
     },
     "execution_count": 49,
     "metadata": {},
     "output_type": "execute_result"
    }
   ],
   "source": [
    "yes_no = {'Yes':True, 'No':False}\n",
    "\n",
    "star_wars['Have you seen any of the 6 films in the Star Wars franchise?'] = star_wars['Have you seen any of the 6 films in the Star Wars franchise?'].map(yes_no) \n",
    "star_wars['Do you consider yourself to be a fan of the Star Wars film franchise?'] = star_wars['Do you consider yourself to be a fan of the Star Wars film franchise?'].map(yes_no) \n",
    "star_wars['Do you consider yourself to be a fan of the Star Trek franchise?'] = star_wars['Do you consider yourself to be a fan of the Star Trek franchise?'].map(yes_no) \n",
    "star_wars['Do you consider yourself to be a fan of the Expanded Universe?ÂÃ¦'] = star_wars['Do you consider yourself to be a fan of the Expanded Universe?ÂÃ¦'].map(yes_no) \n",
    "star_wars['Are you familiar with the Expanded Universe?'] = star_wars['Are you familiar with the Expanded Universe?'].map(yes_no)\n",
    "\n",
    "star_wars.iloc[:,3:9].head(10)"
   ]
  },
  {
   "cell_type": "markdown",
   "metadata": {},
   "source": [
    "Finally, we are going to go ahead and reformat the columns expressing which movies the participants have seen."
   ]
  },
  {
   "cell_type": "code",
   "execution_count": 50,
   "metadata": {},
   "outputs": [
    {
     "data": {
      "text/plain": [
       "1       Star Wars: Episode II  Attack of the Clones\n",
       "2                                               NaN\n",
       "3       Star Wars: Episode II  Attack of the Clones\n",
       "4       Star Wars: Episode II  Attack of the Clones\n",
       "5       Star Wars: Episode II  Attack of the Clones\n",
       "                           ...                     \n",
       "1182    Star Wars: Episode II  Attack of the Clones\n",
       "1183    Star Wars: Episode II  Attack of the Clones\n",
       "1184                                            NaN\n",
       "1185    Star Wars: Episode II  Attack of the Clones\n",
       "1186    Star Wars: Episode II  Attack of the Clones\n",
       "Name: Unnamed: 4, Length: 1186, dtype: object"
      ]
     },
     "execution_count": 50,
     "metadata": {},
     "output_type": "execute_result"
    }
   ],
   "source": [
    "star_wars['Unnamed: 4']"
   ]
  },
  {
   "cell_type": "code",
   "execution_count": 51,
   "metadata": {},
   "outputs": [],
   "source": [
    "dictionary = {\"Star Wars: Episode I  The Phantom Menace\": True, \"Star Wars: Episode II  Attack of the Clones\": True, \"Star Wars: Episode III  Revenge of the Sith\": True, \"Star Wars: Episode IV  A New Hope\": True, \"Star Wars: Episode V The Empire Strikes Back\": True, \"Star Wars: Episode VI Return of the Jedi\": True, np.nan:False}\n",
    "ep_num = 1\n",
    "for i in star_wars.columns[3:9]:\n",
    "    star_wars[i] = star_wars[i].map(dictionary)\n",
    "    star_wars = star_wars.rename(columns = {i:\"seen_\"+ str(ep_num)})\n",
    "    ep_num += 1\n"
   ]
  },
  {
   "cell_type": "markdown",
   "metadata": {},
   "source": [
    "Now let's take care of reformatting the movie ranking columns (9 thru 15)."
   ]
  },
  {
   "cell_type": "code",
   "execution_count": 52,
   "metadata": {},
   "outputs": [],
   "source": [
    "star_wars[star_wars.columns[9:15]] = star_wars[star_wars.columns[9:15]].astype(float)"
   ]
  },
  {
   "cell_type": "code",
   "execution_count": 53,
   "metadata": {},
   "outputs": [],
   "source": [
    "dictionary = {}\n",
    "dictionary_index = 1\n",
    "for i in star_wars.columns[9:15]:\n",
    "    dictionary[i] = \"ranking_\" + str(dictionary_index)\n",
    "    dictionary_index += 1\n",
    "\n",
    "star_wars = star_wars.rename(columns = dictionary)"
   ]
  },
  {
   "cell_type": "markdown",
   "metadata": {},
   "source": [
    "So now let's take a look at the reformatted columns:"
   ]
  },
  {
   "cell_type": "code",
   "execution_count": 54,
   "metadata": {},
   "outputs": [
    {
     "data": {
      "text/html": [
       "<div>\n",
       "<style scoped>\n",
       "    .dataframe tbody tr th:only-of-type {\n",
       "        vertical-align: middle;\n",
       "    }\n",
       "\n",
       "    .dataframe tbody tr th {\n",
       "        vertical-align: top;\n",
       "    }\n",
       "\n",
       "    .dataframe thead th {\n",
       "        text-align: right;\n",
       "    }\n",
       "</style>\n",
       "<table border=\"1\" class=\"dataframe\">\n",
       "  <thead>\n",
       "    <tr style=\"text-align: right;\">\n",
       "      <th></th>\n",
       "      <th>ranking_1</th>\n",
       "      <th>ranking_2</th>\n",
       "      <th>ranking_3</th>\n",
       "      <th>ranking_4</th>\n",
       "      <th>ranking_5</th>\n",
       "      <th>ranking_6</th>\n",
       "    </tr>\n",
       "  </thead>\n",
       "  <tbody>\n",
       "    <tr>\n",
       "      <th>1</th>\n",
       "      <td>3.0</td>\n",
       "      <td>2.0</td>\n",
       "      <td>1.0</td>\n",
       "      <td>4.0</td>\n",
       "      <td>5.0</td>\n",
       "      <td>6.0</td>\n",
       "    </tr>\n",
       "    <tr>\n",
       "      <th>2</th>\n",
       "      <td>NaN</td>\n",
       "      <td>NaN</td>\n",
       "      <td>NaN</td>\n",
       "      <td>NaN</td>\n",
       "      <td>NaN</td>\n",
       "      <td>NaN</td>\n",
       "    </tr>\n",
       "    <tr>\n",
       "      <th>3</th>\n",
       "      <td>1.0</td>\n",
       "      <td>2.0</td>\n",
       "      <td>3.0</td>\n",
       "      <td>4.0</td>\n",
       "      <td>5.0</td>\n",
       "      <td>6.0</td>\n",
       "    </tr>\n",
       "    <tr>\n",
       "      <th>4</th>\n",
       "      <td>5.0</td>\n",
       "      <td>6.0</td>\n",
       "      <td>1.0</td>\n",
       "      <td>2.0</td>\n",
       "      <td>4.0</td>\n",
       "      <td>3.0</td>\n",
       "    </tr>\n",
       "    <tr>\n",
       "      <th>5</th>\n",
       "      <td>5.0</td>\n",
       "      <td>4.0</td>\n",
       "      <td>6.0</td>\n",
       "      <td>2.0</td>\n",
       "      <td>1.0</td>\n",
       "      <td>3.0</td>\n",
       "    </tr>\n",
       "  </tbody>\n",
       "</table>\n",
       "</div>"
      ],
      "text/plain": [
       "   ranking_1  ranking_2  ranking_3  ranking_4  ranking_5  ranking_6\n",
       "1        3.0        2.0        1.0        4.0        5.0        6.0\n",
       "2        NaN        NaN        NaN        NaN        NaN        NaN\n",
       "3        1.0        2.0        3.0        4.0        5.0        6.0\n",
       "4        5.0        6.0        1.0        2.0        4.0        3.0\n",
       "5        5.0        4.0        6.0        2.0        1.0        3.0"
      ]
     },
     "execution_count": 54,
     "metadata": {},
     "output_type": "execute_result"
    }
   ],
   "source": [
    "star_wars.iloc[:,9:15].head()"
   ]
  },
  {
   "cell_type": "markdown",
   "metadata": {},
   "source": [
    "Much better. Now that we have the rankings formatted, we can ask the question of whether or not the survey participants enjoyed the sequels better or not!\n",
    "\n",
    "# Results Analysis"
   ]
  },
  {
   "cell_type": "code",
   "execution_count": 55,
   "metadata": {},
   "outputs": [
    {
     "data": {
      "image/png": "[encoded data removed]",
      "text/plain": [
       "<Figure size 432x288 with 1 Axes>"
      ]
     },
     "metadata": {
      "needs_background": "light"
     },
     "output_type": "display_data"
    }
   ],
   "source": [
    "fig, ax = plt.subplots()\n",
    "bar_heights = (7-star_wars.mean()[9:15])\n",
    "bar_positions = np.arange(6) + 0.75\n",
    "width = 0.5\n",
    "\n",
    "plot = ax.bar(bar_positions, bar_heights, width, color = 'b')\n",
    "ax.set_ylabel('Movie Rating')\n",
    "ax.set_xlabel('Movie in Series')\n",
    "ax.set_title('Highest Ranked Star Wars Movie')\n",
    "plt.show()"
   ]
  },
  {
   "cell_type": "code",
   "execution_count": 56,
   "metadata": {},
   "outputs": [
    {
     "data": {
      "image/png": "[encoded data removed]",
      "text/plain": [
       "<Figure size 432x288 with 1 Axes>"
      ]
     },
     "metadata": {
      "needs_background": "light"
     },
     "output_type": "display_data"
    }
   ],
   "source": [
    "bar_heights = star_wars[star_wars.columns[3:9]].sum()\n",
    "bar_positions = np.arange(6) + 0.75\n",
    "width = 0.5\n",
    "\n",
    "fig,ax = plt.subplots()\n",
    "ax.bar(bar_positions, bar_heights, width, color = 'b')\n",
    "ax.set_title('High Viewed Star Wards Movie')\n",
    "ax.set_xlabel('Movie in Series')\n",
    "ax.set_ylabel('Number of Views')\n",
    "\n",
    "plt.show()"
   ]
  },
  {
   "cell_type": "markdown",
   "metadata": {
    "collapsed": true
   },
   "source": [
    "## Discussion\n",
    "\n",
    "I think, given the popularity rankings for each film, that the most popular films also tend to be the most viewed in the series. More people have seen The Phantom Menace than A New Hope, which makes sense given the fact that The Phantom Menace came out after the prequels had already been out for many years, giving it substantial hype. In addition, The New Hope was the first Star Wars film EVER so it might not have caught on until The Empire Strikes Back.\n",
    "\n",
    "# Result Analysis (Fans of Series Only)"
   ]
  },
  {
   "cell_type": "code",
   "execution_count": 57,
   "metadata": {},
   "outputs": [],
   "source": [
    "star_wars_fans = star_wars[star_wars[\"Do you consider yourself to be a fan of the Star Wars film franchise?\"] == True]"
   ]
  },
  {
   "cell_type": "code",
   "execution_count": 59,
   "metadata": {},
   "outputs": [
    {
     "data": {
      "image/png": "[encoded data removed]",
      "text/plain": [
       "<Figure size 432x288 with 1 Axes>"
      ]
     },
     "metadata": {
      "needs_background": "light"
     },
     "output_type": "display_data"
    }
   ],
   "source": [
    "fig, ax = plt.subplots()\n",
    "bar_heights = (7-star_wars_fans.mean()[9:15])\n",
    "bar_positions = np.arange(6) + 0.75\n",
    "width = 0.5\n",
    "\n",
    "plot = ax.bar(bar_positions, bar_heights, width, color = 'b')\n",
    "ax.set_ylabel('Movie Rating')\n",
    "ax.set_xlabel('Movie in Series')\n",
    "ax.set_title('Highest Ranked Star Wars Movie')\n",
    "plt.show()"
   ]
  },
  {
   "cell_type": "code",
   "execution_count": 60,
   "metadata": {},
   "outputs": [
    {
     "data": {
      "image/png": "[encoded data removed]",
      "text/plain": [
       "<Figure size 432x288 with 1 Axes>"
      ]
     },
     "metadata": {
      "needs_background": "light"
     },
     "output_type": "display_data"
    }
   ],
   "source": [
    "bar_heights = star_wars[star_wars_fans.columns[3:9]].sum()\n",
    "bar_positions = np.arange(6) + 0.75\n",
    "width = 0.5\n",
    "\n",
    "fig,ax = plt.subplots()\n",
    "ax.bar(bar_positions, bar_heights, width)\n",
    "ax.bar(bar_positions, bar_heights, width, color = 'b')\n",
    "ax.set_title('High Viewed Star Wards Movie')\n",
    "ax.set_xlabel('Movie in Series')\n",
    "ax.set_ylabel('Number of Views')\n",
    "\n",
    "plt.show()"
   ]
  },
  {
   "cell_type": "markdown",
   "metadata": {},
   "source": [
    "## Discussion\n",
    "\n",
    "Aha! So people who identified as fans tend to rank the prequels higher than the sequels, and within the sequels, The Empire Strikes Back is the highest rated.\n",
    "\n",
    "# # Result Analysis (NOT Fans of Series Only)"
   ]
  },
  {
   "cell_type": "code",
   "execution_count": 61,
   "metadata": {},
   "outputs": [],
   "source": [
    "star_wars_fans = star_wars[star_wars[\"Do you consider yourself to be a fan of the Star Wars film franchise?\"] == False]"
   ]
  },
  {
   "cell_type": "code",
   "execution_count": 64,
   "metadata": {},
   "outputs": [
    {
     "data": {
      "image/png": "[encoded data removed]",
      "text/plain": [
       "<Figure size 432x288 with 1 Axes>"
      ]
     },
     "metadata": {
      "needs_background": "light"
     },
     "output_type": "display_data"
    }
   ],
   "source": [
    "fig, ax = plt.subplots()\n",
    "bar_heights = (7-star_wars_fans.mean()[9:15])\n",
    "bar_positions = np.arange(6) + 0.75\n",
    "width = 0.5\n",
    "\n",
    "plot = ax.bar(bar_positions, bar_heights, width, color = 'b')\n",
    "ax.set_ylabel('Movie Rating')\n",
    "ax.set_xlabel('Movie in Series')\n",
    "ax.set_title('Highest Ranked Star Wars Movie')\n",
    "plt.show()"
   ]
  },
  {
   "cell_type": "code",
   "execution_count": 65,
   "metadata": {},
   "outputs": [
    {
     "data": {
      "image/png": "[encoded data removed]",
      "text/plain": [
       "<Figure size 432x288 with 1 Axes>"
      ]
     },
     "metadata": {
      "needs_background": "light"
     },
     "output_type": "display_data"
    }
   ],
   "source": [
    "bar_heights = star_wars_fans[star_wars_fans.columns[3:9]].sum()\n",
    "bar_positions = np.arange(6) + 0.75\n",
    "width = 0.5\n",
    "\n",
    "fig,ax = plt.subplots()\n",
    "ax.bar(bar_positions, bar_heights, width, color = 'b')\n",
    "ax.set_title('High Viewed Star Wards Movie')\n",
    "ax.set_xlabel('Movie in Series')\n",
    "ax.set_ylabel('Number of Views')\n",
    "plt.show()"
   ]
  },
  {
   "cell_type": "markdown",
   "metadata": {},
   "source": [
    "## Discussion\n",
    "\n",
    "The first three movies are rated much higher by fans who aren't necessarily fans of the series. Despite this, it's important to note that sequels 5 and 6 are still the most viewed movies in the series among this demographic."
   ]
  },
  {
   "cell_type": "markdown",
   "metadata": {},
   "source": [
    "# Results\n",
    "\n",
    "So it seems the question of whether or not the sequels are better, are divided based on whether survey participants are fans of the series or not. To put it simply:\n",
    "\n",
    "**Fan of Series**: Prequels are **best**!\n",
    "\n",
    "**Not Fan of Series**: Prequels and sequels are **tied**!"
   ]
  },
  {
   "cell_type": "markdown",
   "metadata": {},
   "source": [
    "# Further investigation\n",
    "\n",
    "There are many more possible ways to investigate the data based on the columns. Here are a few:\n",
    "\n",
    "- Looking only at fans of the extended universe\n",
    "- Sequestering different age and location demographics and investigating the rest.\n",
    "- Whether or not the participants are fans of the Star Trek franchise\n",
    "\n",
    "Until next time!"
   ]
  }
 ],
 "metadata": {
  "kernelspec": {
   "display_name": "Python 3",
   "language": "python",
   "name": "python3"
  },
  "language_info": {
   "codemirror_mode": {
    "name": "ipython",
    "version": 3
   },
   "file_extension": ".py",
   "mimetype": "text/x-python",
   "name": "python",
   "nbconvert_exporter": "python",
   "pygments_lexer": "ipython3",
   "version": "3.7.5"
  }
 },
 "nbformat": 4,
 "nbformat_minor": 1
}
